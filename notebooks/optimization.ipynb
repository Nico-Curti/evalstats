{
 "cells": [
  {
   "cell_type": "code",
   "execution_count": 9,
   "metadata": {},
   "outputs": [],
   "source": [
    "import numpy as np\n",
    "from time import time as now\n",
    "\n",
    "x = np.random.uniform(0, 1, size=(10000000,))"
   ]
  },
  {
   "cell_type": "markdown",
   "metadata": {},
   "source": [
    "## Single pass computing"
   ]
  },
  {
   "cell_type": "code",
   "execution_count": 10,
   "metadata": {},
   "outputs": [
    {
     "name": "stdout",
     "output_type": "stream",
     "text": [
      "Sync (single pass): 11.7864890099 seconds\n"
     ]
    },
    {
     "data": {
      "text/plain": [
       "(0.499827226533852,\n",
       " 0.2887206833330619,\n",
       " 1.3349403715778863e-07,\n",
       " 0.999999951870965)"
      ]
     },
     "execution_count": 10,
     "metadata": {},
     "output_type": "execute_result"
    }
   ],
   "source": [
    "def g(x):\n",
    "  mu, mu2, m, M = 0., 0., np.inf, -np.inf\n",
    "  for xi in x:\n",
    "    mu += xi\n",
    "    mu2 += xi * xi\n",
    "    m = min(m, xi)\n",
    "    M = max(M, xi)\n",
    "  mu /= len(x)\n",
    "  std = (mu2 / len(x) - mu * mu) ** 0.5\n",
    "  return mu, std, m, M\n",
    "\n",
    "tic = now()\n",
    "g(x)\n",
    "toc = now()\n",
    "print(f\"Sync (single pass): {toc - tic:.10f} seconds\")\n",
    "g(x)"
   ]
  },
  {
   "cell_type": "markdown",
   "metadata": {},
   "source": [
    "## Parallel For Loop"
   ]
  },
  {
   "cell_type": "code",
   "execution_count": 11,
   "metadata": {},
   "outputs": [
    {
     "name": "stdout",
     "output_type": "stream",
     "text": [
      "Sync (single pass): 0.7826633453 seconds\n"
     ]
    },
    {
     "data": {
      "text/plain": [
       "(0.49982722653384276,\n",
       " 0.28872068333304635,\n",
       " 1.3349403715778863e-07,\n",
       " 0.999999951870965)"
      ]
     },
     "execution_count": 11,
     "metadata": {},
     "output_type": "execute_result"
    }
   ],
   "source": [
    "import numpy as np\n",
    "from pathos.multiprocessing import ProcessingPool as Pool\n",
    "\n",
    "def g_block(x_block):\n",
    "  import numpy as np # Ensure numpy is imported in each worker\n",
    "  \n",
    "  mu = np.sum(x_block)\n",
    "  mu2 = np.sum(x_block ** 2)\n",
    "  m = np.min(x_block)\n",
    "  M = np.max(x_block)\n",
    "  return mu, mu2, m, M\n",
    "\n",
    "def g_parallel_pathos(x, num_processes=4):\n",
    "  x = np.asarray(x)\n",
    "  n = len(x)\n",
    "  block_size = (n + num_processes - 1) // num_processes\n",
    "  blocks = [x[i:i+block_size] for i in range(0, n, block_size)]\n",
    "\n",
    "  with Pool(nodes=num_processes) as pool:\n",
    "    results = pool.map(g_block, blocks)\n",
    "\n",
    "  total_mu = sum(r[0] for r in results)\n",
    "  total_mu2 = sum(r[1] for r in results)\n",
    "  global_min = min(r[2] for r in results)\n",
    "  global_max = max(r[3] for r in results)\n",
    "\n",
    "  mu = total_mu / n\n",
    "  std = (total_mu2 / n - mu * mu) ** 0.5\n",
    "  return mu, std, global_min, global_max\n",
    "\n",
    "tic = now()\n",
    "g_parallel_pathos(x)\n",
    "toc = now()\n",
    "print(f\"Sync (single pass): {toc - tic:.10f} seconds\")\n",
    "g_parallel_pathos(x)"
   ]
  },
  {
   "cell_type": "markdown",
   "metadata": {},
   "source": [
    "## Numpy Computing"
   ]
  },
  {
   "cell_type": "code",
   "execution_count": 12,
   "metadata": {},
   "outputs": [
    {
     "name": "stdout",
     "output_type": "stream",
     "text": [
      "Sync: 0.2758500576 seconds\n"
     ]
    },
    {
     "data": {
      "text/plain": [
       "(0.49982722653384265,\n",
       " 0.2887206833330463,\n",
       " 1.3349403715778863e-07,\n",
       " 0.999999951870965)"
      ]
     },
     "execution_count": 12,
     "metadata": {},
     "output_type": "execute_result"
    }
   ],
   "source": [
    "def f (x):\n",
    "  return (np.mean(x), np.std(x), np.min(x), np.max(x))\n",
    "\n",
    "\n",
    "tic = now()\n",
    "f(x)\n",
    "toc = now()\n",
    "print(f\"Sync: {toc - tic:.10f} seconds\")\n",
    "f(x)"
   ]
  },
  {
   "cell_type": "markdown",
   "metadata": {},
   "source": [
    "## Async Computing"
   ]
  },
  {
   "cell_type": "code",
   "execution_count": 13,
   "metadata": {},
   "outputs": [
    {
     "name": "stdout",
     "output_type": "stream",
     "text": [
      "ASync: 0.2564344406 seconds\n"
     ]
    },
    {
     "data": {
      "text/plain": [
       "(0.49982722653384265,\n",
       " 0.2887206833330463,\n",
       " 1.3349403715778863e-07,\n",
       " 0.999999951870965)"
      ]
     },
     "execution_count": 13,
     "metadata": {},
     "output_type": "execute_result"
    }
   ],
   "source": [
    "import asyncio\n",
    "import numpy as np\n",
    "from concurrent.futures import ThreadPoolExecutor\n",
    "\n",
    "def calc_mean(array):\n",
    "  return np.mean(array)\n",
    "\n",
    "def calc_std(array):\n",
    "  return np.std(array)\n",
    "\n",
    "def calc_min(array):\n",
    "  return np.min(array)\n",
    "\n",
    "def calc_max(array):\n",
    "  return np.max(array)\n",
    "\n",
    "async def async_calculate_all(array):\n",
    "  loop = asyncio.get_running_loop()\n",
    "  with ThreadPoolExecutor() as pool:\n",
    "    # Crea subito tutti i task, NON aspetta subito\n",
    "    mean_future = loop.run_in_executor(pool, calc_mean, array)\n",
    "    std_future  = loop.run_in_executor(pool, calc_std, array)\n",
    "    min_future  = loop.run_in_executor(pool, calc_min, array)\n",
    "    max_future  = loop.run_in_executor(pool, calc_max, array)\n",
    "\n",
    "    # Aspetta tutti insieme\n",
    "    results = await asyncio.gather(mean_future, std_future, min_future, max_future)\n",
    "  return tuple(results)\n",
    "\n",
    "tic = now()\n",
    "stats = await async_calculate_all(x)\n",
    "toc = now()\n",
    "print(f\"ASync: {toc - tic:.10f} seconds\")\n",
    "await async_calculate_all(x)"
   ]
  },
  {
   "cell_type": "markdown",
   "metadata": {},
   "source": [
    "## Async For Loop"
   ]
  },
  {
   "cell_type": "code",
   "execution_count": 14,
   "metadata": {},
   "outputs": [
    {
     "name": "stdout",
     "output_type": "stream",
     "text": [
      "ASync: 0.1435821056 seconds\n"
     ]
    },
    {
     "data": {
      "text/plain": [
       "(0.49982722653384276,\n",
       " 0.28872068333304635,\n",
       " 1.3349403715778863e-07,\n",
       " 0.999999951870965)"
      ]
     },
     "execution_count": 14,
     "metadata": {},
     "output_type": "execute_result"
    }
   ],
   "source": [
    "import asyncio\n",
    "import numpy as np\n",
    "from concurrent.futures import ThreadPoolExecutor\n",
    "\n",
    "def g_block(x_block):\n",
    "  mu = np.sum(x_block)\n",
    "  mu2 = np.sum(x_block ** 2)\n",
    "  m = np.min(x_block)\n",
    "  M = np.max(x_block)\n",
    "  return mu, mu2, m, M\n",
    "\n",
    "async def async_g_parallel(x, num_threads=4):\n",
    "  x = np.asarray(x)\n",
    "  n = len(x)\n",
    "  block_size = (n + num_threads - 1) // num_threads\n",
    "  blocks = [x[i:i+block_size] for i in range(0, n, block_size)]\n",
    "\n",
    "  loop = asyncio.get_running_loop()\n",
    "  with ThreadPoolExecutor(max_workers=num_threads) as executor:\n",
    "    tasks = []\n",
    "    for block in blocks:\n",
    "      # Submit g_block to executor, wrapped in async future\n",
    "      task = loop.run_in_executor(executor, g_block, block)\n",
    "      tasks.append(task)\n",
    "\n",
    "    results = await asyncio.gather(*tasks)\n",
    "\n",
    "  total_mu = sum(r[0] for r in results)\n",
    "  total_mu2 = sum(r[1] for r in results)\n",
    "  global_min = min(r[2] for r in results)\n",
    "  global_max = max(r[3] for r in results)\n",
    "\n",
    "  mu = total_mu / n\n",
    "  std = (total_mu2 / n - mu * mu) ** 0.5\n",
    "  return mu, std, global_min, global_max\n",
    "\n",
    "tic = now()\n",
    "stats = await async_g_parallel(x)\n",
    "toc = now()\n",
    "print(f\"ASync: {toc - tic:.10f} seconds\")\n",
    "await async_g_parallel(x)"
   ]
  },
  {
   "cell_type": "code",
   "execution_count": null,
   "metadata": {},
   "outputs": [],
   "source": []
  }
 ],
 "metadata": {
  "kernelspec": {
   "display_name": "Python 3",
   "language": "python",
   "name": "python3"
  },
  "language_info": {
   "codemirror_mode": {
    "name": "ipython",
    "version": 3
   },
   "file_extension": ".py",
   "mimetype": "text/x-python",
   "name": "python",
   "nbconvert_exporter": "python",
   "pygments_lexer": "ipython3",
   "version": "3.12.3"
  }
 },
 "nbformat": 4,
 "nbformat_minor": 2
}
